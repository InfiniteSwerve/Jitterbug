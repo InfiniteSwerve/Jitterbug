{
 "cells": [
  {
   "cell_type": "code",
   "execution_count": 1,
   "metadata": {},
   "outputs": [],
   "source": [
    "from jitterbug import Jitterbug\n",
    "import time"
   ]
  },
  {
   "cell_type": "code",
   "execution_count": 2,
   "metadata": {},
   "outputs": [],
   "source": [
    "jb = Jitterbug(1)\n",
    "@jb.jitterbug()\n",
    "def flat_a():\n",
    "    time.sleep(1)\n",
    "    print(\"done with flat_a\")\n",
    "@jb.jitterbug()\n",
    "def flat_b():\n",
    "    time.sleep(1)\n",
    "    print(\"done with flat_b\")\n",
    "@jb.jitterbug()\n",
    "def flat_c():\n",
    "    flat_a()\n",
    "    flat_b()\n",
    "    print(\"done with flat_c\")\n",
    "    "
   ]
  },
  {
   "cell_type": "code",
   "execution_count": 3,
   "metadata": {},
   "outputs": [
    {
     "name": "stdout",
     "output_type": "stream",
     "text": [
      "main func is flat_c\n",
      "speeding up flat_a\n",
      "done with flat_a\n",
      "done with flat_b\n",
      "done with flat_c\n",
      "speeding up flat_b\n",
      "done with flat_a\n",
      "done with flat_b\n",
      "done with flat_c\n"
     ]
    }
   ],
   "source": [
    "runtimes = jb.record_runtimes(1., flat_c)"
   ]
  },
  {
   "cell_type": "code",
   "execution_count": 4,
   "metadata": {},
   "outputs": [
    {
     "name": "stdout",
     "output_type": "stream",
     "text": [
      "speedup is 1\n",
      "with flat_a: 6.011781403001805\n",
      "with flat_b: 6.012426535999111\n",
      "with flat_c: 8.008404068998061\n"
     ]
    }
   ],
   "source": [
    "print(f\"speedup is {jb.slowdown}\")\n",
    "for func_name in runtimes:\n",
    "    print(f\"with {func_name}: {runtimes[func_name]}\")"
   ]
  },
  {
   "cell_type": "code",
   "execution_count": null,
   "metadata": {},
   "outputs": [],
   "source": [
    "jb.process_runtimes(runtimes)"
   ]
  }
 ],
 "metadata": {
  "kernelspec": {
   "display_name": "base",
   "language": "python",
   "name": "python3"
  },
  "language_info": {
   "codemirror_mode": {
    "name": "ipython",
    "version": 3
   },
   "file_extension": ".py",
   "mimetype": "text/x-python",
   "name": "python",
   "nbconvert_exporter": "python",
   "pygments_lexer": "ipython3",
   "version": "3.10.9"
  },
  "orig_nbformat": 4
 },
 "nbformat": 4,
 "nbformat_minor": 2
}
